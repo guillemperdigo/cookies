{
 "cells": [
  {
   "cell_type": "code",
   "execution_count": 22,
   "metadata": {},
   "outputs": [],
   "source": [
    "import pandas as pd\n",
    "import pickle\n",
    "from sklearn.impute import SimpleImputer\n",
    "from sklearn.decomposition import PCA\n",
    "from sklearn.pipeline import make_pipeline\n",
    "from scipy.stats import randint\n",
    "from sklearn.preprocessing import StandardScaler\n",
    "from sklearn.neighbors import KNeighborsRegressor\n",
    "from sklearn.model_selection import RandomizedSearchCV"
   ]
  },
  {
   "cell_type": "code",
   "execution_count": 23,
   "metadata": {},
   "outputs": [],
   "source": [
    "cookies = pd.read_csv(\"data/cookies.csv\")"
   ]
  },
  {
   "cell_type": "code",
   "execution_count": 25,
   "metadata": {},
   "outputs": [],
   "source": [
    "cookies_original = cookies"
   ]
  },
  {
   "cell_type": "code",
   "execution_count": 26,
   "metadata": {},
   "outputs": [],
   "source": [
    "cookies.drop(columns=[\"butter type\", \"mixins\"], inplace=True)"
   ]
  },
  {
   "cell_type": "code",
   "execution_count": 27,
   "metadata": {},
   "outputs": [],
   "source": [
    "from sklearn.model_selection import train_test_split\n",
    "train_set, test_set = train_test_split(cookies,\n",
    "                                       test_size=0.2,\n",
    "                                       random_state=123)\n",
    "\n",
    "train_X = train_set.drop(columns=\"quality\")\n",
    "train_y = train_set[\"quality\"]\n",
    "\n",
    "test_X = test_set.drop(columns=\"quality\")\n",
    "test_y = test_set[\"quality\"]"
   ]
  },
  {
   "cell_type": "code",
   "execution_count": 43,
   "metadata": {},
   "outputs": [],
   "source": [
    "param_distribs={\"n_neighbors\": randint(low=3, high=30),\n",
    "                \"weights\":[\"uniform\", \"distance\"],\n",
    "                \"p\":[1,2]}\n",
    "\n",
    "neigh3_search = RandomizedSearchCV(KNeighborsRegressor(),\n",
    "                                   param_distribs,\n",
    "                                   scoring=\"r2\",\n",
    "                                   n_iter=10,\n",
    "                                   cv=5,\n",
    "                                   n_jobs=4,\n",
    "                                   random_state=123)\n",
    "\n",
    "model_pipeline = make_pipeline(SimpleImputer(),\n",
    "                               StandardScaler(),\n",
    "                               PCA(n_components=0.9),\n",
    "                               neigh3_search)"
   ]
  },
  {
   "cell_type": "code",
   "execution_count": 44,
   "metadata": {},
   "outputs": [
    {
     "data": {
      "text/plain": [
       "Pipeline(steps=[('simpleimputer', SimpleImputer()),\n",
       "                ('standardscaler', StandardScaler()),\n",
       "                ('pca', PCA(n_components=0.9)),\n",
       "                ('randomizedsearchcv',\n",
       "                 RandomizedSearchCV(cv=5, estimator=KNeighborsRegressor(),\n",
       "                                    n_jobs=4,\n",
       "                                    param_distributions={'n_neighbors': <scipy.stats._distn_infrastructure.rv_frozen object at 0x1250fdfd0>,\n",
       "                                                         'p': [1, 2],\n",
       "                                                         'weights': ['uniform',\n",
       "                                                                     'distance']},\n",
       "                                    random_state=123, scoring='r2'))])"
      ]
     },
     "execution_count": 44,
     "metadata": {},
     "output_type": "execute_result"
    }
   ],
   "source": [
    "model_pipeline.fit(train_X, train_y)"
   ]
  },
  {
   "cell_type": "code",
   "execution_count": 45,
   "metadata": {},
   "outputs": [],
   "source": [
    "# save the model to disk\n",
    "filename = 'Models/model_pipeline1.sav'\n",
    "pickle.dump(model_pipeline, open(filename, 'wb'))"
   ]
  }
 ],
 "metadata": {
  "kernelspec": {
   "display_name": "Python 3",
   "language": "python",
   "name": "python3"
  },
  "language_info": {
   "codemirror_mode": {
    "name": "ipython",
    "version": 3
   },
   "file_extension": ".py",
   "mimetype": "text/x-python",
   "name": "python",
   "nbconvert_exporter": "python",
   "pygments_lexer": "ipython3",
   "version": "3.8.4"
  }
 },
 "nbformat": 4,
 "nbformat_minor": 4
}
